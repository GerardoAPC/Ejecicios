{
 "cells": [
  {
   "cell_type": "markdown",
   "metadata": {},
   "source": [
    "# **Introducción al análisis de datos en Python**, Juan Moreno y Mateo Dulce"
   ]
  },
  {
   "cell_type": "markdown",
   "metadata": {},
   "source": [
    "# Clase 2: Introducción Python (2)\n",
    "El objetivo de este clase es concluir la introducción a Python y jupyter:\n",
    "- Familiarizarnos con los últimos objetos _built-in_ Python. \n",
    "- Condicionales (if, elif, else).\n",
    "- Loops (for, while).\n",
    "- Funciones.\n",
    "- Magic Functions.\n",
    "\n",
    "\n"
   ]
  },
  {
   "cell_type": "markdown",
   "metadata": {},
   "source": [
    "### Listas\n",
    "1. Construya una lista solo con números llamada lista_1.\n",
    "2. Extraiga e imprima el primer elemento de la lista (recuerde que en Python se comienza desde la posición 0).\n",
    "3. Extraiga e imprima el último elemento de la lista: para hacer esto no es necesario saber el tamaño de la lista.\n",
    "4. Extraiga e imprima los dos primeros elementos.\n",
    "5. Extraiga e imprima los elementos en posiciones impares."
   ]
  },
  {
   "cell_type": "code",
   "execution_count": 1,
   "metadata": {},
   "outputs": [
    {
     "name": "stdout",
     "output_type": "stream",
     "text": [
      "[13, 3, 7, 45]\n",
      "13\n",
      "45\n",
      "[13, 3]\n",
      "[3, 45]\n"
     ]
    }
   ],
   "source": [
    "lista_1=[13,3,7,45]\n",
    "print(lista_1)\n",
    "print(lista_1[0])\n",
    "print(lista_1[-1])\n",
    "print(lista_1[:2])\n",
    "print(lista_1[1::2])"
   ]
  },
  {
   "cell_type": "markdown",
   "metadata": {},
   "source": [
    "## Funciones internas\n",
    "### Matemáticas\n",
    "1. Para qué sirve _abs()_\n",
    "2. Para qué sirve _max()_\n",
    "3. Para qué sirve _min()_\n",
    "4. Para qué sirve _sum()_\n"
   ]
  },
  {
   "cell_type": "code",
   "execution_count": 2,
   "metadata": {},
   "outputs": [
    {
     "name": "stdout",
     "output_type": "stream",
     "text": [
      "5\n",
      "45\n",
      "3\n",
      "68\n"
     ]
    }
   ],
   "source": [
    "print(abs(-5))\n",
    "print(max(lista_1))\n",
    "print(min(lista_1))\n",
    "print(sum(lista_1))"
   ]
  },
  {
   "cell_type": "markdown",
   "metadata": {},
   "source": [
    "### Iterables\n",
    "1. Para qué sirve _all()_\n",
    "3. Para qué sirve _any()_\n",
    "3. Para qué sirve _len()_"
   ]
  },
  {
   "cell_type": "code",
   "execution_count": 3,
   "metadata": {},
   "outputs": [
    {
     "name": "stdout",
     "output_type": "stream",
     "text": [
      "False\n",
      "True\n",
      "3\n"
     ]
    }
   ],
   "source": [
    "print(all([True, True, False]))\n",
    "print(any([True, True, False]))\n",
    "print(len([True, True, False]))"
   ]
  },
  {
   "cell_type": "markdown",
   "metadata": {},
   "source": [
    "### Métodos de las listas\n",
    "Pruebe los siguientes métodos de listas y diga para qué sirven:\n",
    "1. .sort()\n",
    "2. .append()\n",
    "3. .remove()\n",
    "4. reverse()\n",
    "5. index()"
   ]
  },
  {
   "cell_type": "code",
   "execution_count": 4,
   "metadata": {},
   "outputs": [],
   "source": [
    "lista_2=[16,88,33,40] # Creamos una lista arbitraria"
   ]
  },
  {
   "cell_type": "code",
   "execution_count": 5,
   "metadata": {},
   "outputs": [
    {
     "data": {
      "text/plain": [
       "[16, 33, 40, 88]"
      ]
     },
     "execution_count": 5,
     "metadata": {},
     "output_type": "execute_result"
    }
   ],
   "source": [
    "lista_2.sort() # ordena de menor a mayor. Busque la documentación en línea para saber como hacerlo de mayor a menor\n",
    "lista_2"
   ]
  },
  {
   "cell_type": "code",
   "execution_count": 6,
   "metadata": {},
   "outputs": [
    {
     "data": {
      "text/plain": [
       "[16, 33, 40, 88, 2]"
      ]
     },
     "execution_count": 6,
     "metadata": {},
     "output_type": "execute_result"
    }
   ],
   "source": [
    "lista_2.append(2) # agrega elementos\n",
    "lista_2"
   ]
  },
  {
   "cell_type": "code",
   "execution_count": 7,
   "metadata": {},
   "outputs": [
    {
     "data": {
      "text/plain": [
       "[16, 33, 88, 2]"
      ]
     },
     "execution_count": 7,
     "metadata": {},
     "output_type": "execute_result"
    }
   ],
   "source": [
    "lista_2.remove(40) # quita los elementos\n",
    "lista_2"
   ]
  },
  {
   "cell_type": "code",
   "execution_count": 8,
   "metadata": {},
   "outputs": [
    {
     "data": {
      "text/plain": [
       "[2, 88, 33, 16]"
      ]
     },
     "execution_count": 8,
     "metadata": {},
     "output_type": "execute_result"
    }
   ],
   "source": [
    "lista_2.reverse()  # invierte el orden de la lista\n",
    "lista_2"
   ]
  },
  {
   "cell_type": "code",
   "execution_count": 9,
   "metadata": {},
   "outputs": [
    {
     "data": {
      "text/plain": [
       "2"
      ]
     },
     "execution_count": 9,
     "metadata": {},
     "output_type": "execute_result"
    }
   ],
   "source": [
    "lista_2.index(33) # dice la posición en la lista donde se encuentra el elemento pasado a la lista"
   ]
  },
  {
   "cell_type": "markdown",
   "metadata": {},
   "source": [
    "6. Usando _.index()_ ¿cómo podría encontrar la posición donde esté el máximo de una lista?"
   ]
  },
  {
   "cell_type": "code",
   "execution_count": 10,
   "metadata": {},
   "outputs": [
    {
     "data": {
      "text/plain": [
       "1"
      ]
     },
     "execution_count": 10,
     "metadata": {},
     "output_type": "execute_result"
    }
   ],
   "source": [
    "lista_2.index(max(lista_2)) # Con max puedo ver el valor máximo de la lista, con index veo en que posición está"
   ]
  },
  {
   "cell_type": "markdown",
   "metadata": {},
   "source": [
    "### Diccionarios\n",
    "1. Defina \"a\" como un entero y \"b\" como un caracter.\n",
    "2. Defina un dictionario llamado dict_1 donde incluya un número (float), \"a\", \"b\" y lista_1\n",
    "3. Accedamos a los elementos"
   ]
  },
  {
   "cell_type": "code",
   "execution_count": 11,
   "metadata": {},
   "outputs": [],
   "source": [
    "a=7\n",
    "b='Python'\n",
    "dict_1={\"a\": a, \"b\": b, 'lista': lista_1, \"numero\":3.14}"
   ]
  },
  {
   "cell_type": "code",
   "execution_count": 12,
   "metadata": {},
   "outputs": [
    {
     "name": "stdout",
     "output_type": "stream",
     "text": [
      "7\n",
      "Python\n",
      "[13, 3, 7, 45]\n",
      "3.14\n",
      "<class 'dict'>\n",
      "<class 'int'>\n"
     ]
    }
   ],
   "source": [
    "print(dict_1['a'])\n",
    "print(dict_1['b'])\n",
    "print(dict_1['lista'])\n",
    "print(dict_1['numero'])\n",
    "print(type(dict_1))\n",
    "print(type(dict_1['a']))"
   ]
  },
  {
   "cell_type": "markdown",
   "metadata": {},
   "source": [
    "4. Acceda al elemento del diccionario llamado \"lista\" y extraiga el último elemento de la lista\n",
    "5. Añada un nuevo elemento al diccionario llamado \"nuevo\" que sea en caracteres la fecha de hoy.\n"
   ]
  },
  {
   "cell_type": "code",
   "execution_count": 13,
   "metadata": {},
   "outputs": [
    {
     "name": "stdout",
     "output_type": "stream",
     "text": [
      "45\n",
      "11/09/2019\n",
      "{'a': 7, 'b': 'Python', 'lista': [13, 3, 7, 45], 'numero': 3.14, 'fecha_hoy': '11/09/2019'}\n"
     ]
    }
   ],
   "source": [
    "print(dict_1['lista'][-1])\n",
    "dict_1['fecha_hoy']='11/09/2019'\n",
    "print(dict_1['fecha_hoy'])\n",
    "print(dict_1)"
   ]
  },
  {
   "cell_type": "markdown",
   "metadata": {},
   "source": [
    "### Métodos de los diccionarios\n",
    "1. _get()_\n",
    "2. _items()_\n",
    "3. _keys()_\n",
    "4. _values()_"
   ]
  },
  {
   "cell_type": "code",
   "execution_count": 14,
   "metadata": {},
   "outputs": [
    {
     "name": "stdout",
     "output_type": "stream",
     "text": [
      "7\n",
      "None\n"
     ]
    }
   ],
   "source": [
    "print(dict_1.get('a'))\n",
    "print(dict_1.get('nombre'))"
   ]
  },
  {
   "cell_type": "code",
   "execution_count": 15,
   "metadata": {},
   "outputs": [
    {
     "name": "stdout",
     "output_type": "stream",
     "text": [
      "dict_items([('a', 7), ('b', 'Python'), ('lista', [13, 3, 7, 45]), ('numero', 3.14), ('fecha_hoy', '11/09/2019')])\n",
      "[('a', 7), ('b', 'Python'), ('lista', [13, 3, 7, 45]), ('numero', 3.14), ('fecha_hoy', '11/09/2019')]\n",
      "('b', 'Python')\n",
      "Python\n"
     ]
    }
   ],
   "source": [
    "print(dict_1.items())\n",
    "print(list(dict_1.items()))\n",
    "print(list(dict_1.items())[1])\n",
    "print(list(dict_1.items())[1][1])"
   ]
  },
  {
   "cell_type": "code",
   "execution_count": 16,
   "metadata": {},
   "outputs": [
    {
     "name": "stdout",
     "output_type": "stream",
     "text": [
      "dict_keys(['a', 'b', 'lista', 'numero', 'fecha_hoy'])\n",
      "<class 'dict_keys'>\n",
      "['a', 'b', 'lista', 'numero', 'fecha_hoy']\n",
      "numero\n"
     ]
    }
   ],
   "source": [
    "print((dict_1.keys()))\n",
    "print(type(dict_1.keys()))\n",
    "print(list(dict_1.keys()))\n",
    "print(list(dict_1.keys())[3])"
   ]
  },
  {
   "cell_type": "code",
   "execution_count": 17,
   "metadata": {},
   "outputs": [
    {
     "name": "stdout",
     "output_type": "stream",
     "text": [
      "dict_values([7, 'Python', [13, 3, 7, 45], 3.14, '11/09/2019'])\n",
      "<class 'dict_values'>\n",
      "[7, 'Python', [13, 3, 7, 45], 3.14, '11/09/2019']\n",
      "3.14\n"
     ]
    }
   ],
   "source": [
    "print((dict_1.values()))\n",
    "print(type(dict_1.values()))\n",
    "print(list(dict_1.values()))\n",
    "print(list(dict_1.values())[3])"
   ]
  },
  {
   "cell_type": "markdown",
   "metadata": {},
   "source": [
    "### Conversión\n",
    "1. Para qué sirve _type()_\n",
    "1. Para qué sirve _float()_\n",
    "2. Para qué sirve _integer()_\n",
    "3. Para qué sirve _str()_\n"
   ]
  },
  {
   "cell_type": "code",
   "execution_count": 18,
   "metadata": {},
   "outputs": [
    {
     "name": "stdout",
     "output_type": "stream",
     "text": [
      "5.0\n",
      "5\n",
      "5\n",
      "<class 'int'>\n"
     ]
    }
   ],
   "source": [
    "print(float('5'))\n",
    "print(int(5.2))\n",
    "print(str(5))\n",
    "print(type(5))"
   ]
  },
  {
   "cell_type": "markdown",
   "metadata": {},
   "source": [
    "### Composición de tipos de datos\n",
    "1. Para qué sirve _list()_\n",
    "2. Para qué sirve _tuple()_\n",
    "3. Para qué sirve _set()_\n",
    "4. Para qué sirve _dict()_"
   ]
  },
  {
   "cell_type": "markdown",
   "metadata": {},
   "source": [
    "### Miscelania\n",
    "1. Para qué sirve _help()_"
   ]
  },
  {
   "cell_type": "code",
   "execution_count": 19,
   "metadata": {},
   "outputs": [
    {
     "name": "stdout",
     "output_type": "stream",
     "text": [
      "Help on built-in function sum in module builtins:\n",
      "\n",
      "sum(iterable, start=0, /)\n",
      "    Return the sum of a 'start' value (default: 0) plus an iterable of numbers\n",
      "    \n",
      "    When the iterable is empty, return the start value.\n",
      "    This function is intended specifically for use with numeric values and may\n",
      "    reject non-numeric types.\n",
      "\n"
     ]
    }
   ],
   "source": [
    "help(sum)"
   ]
  },
  {
   "cell_type": "markdown",
   "metadata": {},
   "source": [
    "### Paquetes\n",
    "1. Instale el paquete numpy desde Jupyter. "
   ]
  },
  {
   "cell_type": "code",
   "execution_count": 20,
   "metadata": {},
   "outputs": [
    {
     "name": "stdout",
     "output_type": "stream",
     "text": [
      "Requirement already satisfied: numpy in c:\\users\\ga.perez\\appdata\\local\\continuum\\anaconda3\\lib\\site-packages (1.16.2)\n"
     ]
    }
   ],
   "source": [
    "!pip install numpy"
   ]
  },
  {
   "cell_type": "markdown",
   "metadata": {},
   "source": [
    "2. Importe numpy como np\n"
   ]
  },
  {
   "cell_type": "code",
   "execution_count": 21,
   "metadata": {},
   "outputs": [],
   "source": [
    "import numpy as np"
   ]
  },
  {
   "cell_type": "markdown",
   "metadata": {},
   "source": [
    "1. Cree e imprima la variable \"muestra\" que corresponde un entero aleatorio entre 0 y 1000 creado con [np.random.randint] (https://docs.scipy.org/doc/numpy-1.15.1/reference/generated/numpy.random.randint.html)\n",
    "2. Cree una objeto llamado \"muestras\" que tenga 15 enteros aleatorios entre 0 y 1000 **en una sola línea de código**.\n",
    "3. Explore algunas de las funciones de numpy:\n",
    "    - _np.sum()_\n",
    "    - _np.max()_\n",
    "    - _np.min()_\n",
    "    - _np.argmax()_"
   ]
  },
  {
   "cell_type": "code",
   "execution_count": 22,
   "metadata": {},
   "outputs": [
    {
     "name": "stdout",
     "output_type": "stream",
     "text": [
      "16\n",
      "<class 'int'>\n",
      "[760 114 307 604 515 225 972 566 143 169 199  64 270  71  57]\n",
      "<class 'numpy.ndarray'>\n"
     ]
    }
   ],
   "source": [
    "muestra=np.random.randint(0,1000) # Creo un entero aleatorio entre 0 y 1000\n",
    "print(muestra)\n",
    "print(type(muestra))\n",
    "muestras=np.random.randint(0,1000, 15) # Creo una lista de enteros aleatorios entre 0 y 1000 de tamaño 15\n",
    "print(muestras)\n",
    "print(type(muestras))"
   ]
  },
  {
   "cell_type": "code",
   "execution_count": 23,
   "metadata": {},
   "outputs": [
    {
     "name": "stdout",
     "output_type": "stream",
     "text": [
      "5036\n",
      "972\n",
      "57\n"
     ]
    }
   ],
   "source": [
    "print(np.sum(muestras))\n",
    "print(np.max(muestras))\n",
    "print(np.min(muestras))"
   ]
  },
  {
   "cell_type": "code",
   "execution_count": 24,
   "metadata": {},
   "outputs": [
    {
     "name": "stdout",
     "output_type": "stream",
     "text": [
      "[760 114 307 604 515 225 972 566 143 169 199  64 270  71  57]\n",
      "6\n"
     ]
    }
   ],
   "source": [
    "print(muestras)\n",
    "print(np.argmax(muestras))"
   ]
  },
  {
   "cell_type": "markdown",
   "metadata": {},
   "source": [
    "#### NumPy array\n",
    "1. Cree un array numérico.\n",
    "2. Array de ceros.\n",
    "3. Array de unos.\n",
    "4. Array de enteros aleatorios.\n",
    "5. Array de números equidistantes."
   ]
  },
  {
   "cell_type": "code",
   "execution_count": 25,
   "metadata": {},
   "outputs": [
    {
     "name": "stdout",
     "output_type": "stream",
     "text": [
      "[1 2 3]\n",
      "<class 'numpy.ndarray'>\n"
     ]
    }
   ],
   "source": [
    "x = np.array([1, 2, 3])\n",
    "print(x)\n",
    "print(type(x))"
   ]
  },
  {
   "cell_type": "code",
   "execution_count": 26,
   "metadata": {},
   "outputs": [
    {
     "name": "stdout",
     "output_type": "stream",
     "text": [
      "[0. 0. 0.]\n",
      "[1. 1. 1.]\n",
      "[6 7 9]\n",
      "[ 0.   2.5  5.   7.5 10. ]\n"
     ]
    }
   ],
   "source": [
    "print(np.zeros(3))\n",
    "print(np.ones(3))\n",
    "print(np.random.randint(1, 10, 3))\n",
    "print(np.linspace(0, 10, 5))"
   ]
  },
  {
   "cell_type": "markdown",
   "metadata": {},
   "source": [
    "6. Cree un array multidimensional de números aleatorios."
   ]
  },
  {
   "cell_type": "code",
   "execution_count": 27,
   "metadata": {},
   "outputs": [
    {
     "data": {
      "text/plain": [
       "array([[0.75724035, 0.84482119, 0.3637934 , 0.85590694],\n",
       "       [0.01274832, 0.16474421, 0.030623  , 0.58216834],\n",
       "       [0.57617032, 0.69027629, 0.0286333 , 0.52014538]])"
      ]
     },
     "execution_count": 27,
     "metadata": {},
     "output_type": "execute_result"
    }
   ],
   "source": [
    "np.random.random((3,4))"
   ]
  },
  {
   "cell_type": "code",
   "execution_count": 28,
   "metadata": {},
   "outputs": [
    {
     "data": {
      "text/plain": [
       "(3, 4)"
      ]
     },
     "execution_count": 28,
     "metadata": {},
     "output_type": "execute_result"
    }
   ],
   "source": [
    "np.random.random((3,4)).shape"
   ]
  },
  {
   "cell_type": "markdown",
   "metadata": {},
   "source": [
    "1. Cree dos arrays con numeros enteros aleatorios.\n",
    "2. Extraiga elementos de sus arrays.\n",
    "3. Realice operaciones vectoriales.\n",
    "4. Pruebe las funciones: _np.add()_, _np.multiply()_, _np.power()_, _np.cumsum()_, _np.dot()_ "
   ]
  },
  {
   "cell_type": "code",
   "execution_count": 29,
   "metadata": {},
   "outputs": [
    {
     "name": "stdout",
     "output_type": "stream",
     "text": [
      "[4 2 8]\n",
      "[9 8 5]\n"
     ]
    }
   ],
   "source": [
    "y = np.random.randint(1, 10, 3)\n",
    "z = np.random.randint(1, 10, 3)\n",
    "print(y)\n",
    "print(z)"
   ]
  },
  {
   "cell_type": "code",
   "execution_count": 30,
   "metadata": {},
   "outputs": [
    {
     "name": "stdout",
     "output_type": "stream",
     "text": [
      "4\n",
      "8\n",
      "[9 5]\n"
     ]
    }
   ],
   "source": [
    "print(y[0])\n",
    "print(y[-1])\n",
    "print(z[::2])"
   ]
  },
  {
   "cell_type": "code",
   "execution_count": 31,
   "metadata": {},
   "outputs": [
    {
     "name": "stdout",
     "output_type": "stream",
     "text": [
      "[13 10 13]\n",
      "[-5 -6  3]\n",
      "[36 16 40]\n",
      "[0.44444444 0.25       1.6       ]\n"
     ]
    }
   ],
   "source": [
    "print(y + z)\n",
    "print(y - z)\n",
    "print(y * z)\n",
    "print(y / z)"
   ]
  },
  {
   "cell_type": "code",
   "execution_count": 32,
   "metadata": {},
   "outputs": [
    {
     "name": "stdout",
     "output_type": "stream",
     "text": [
      "[ 9  7 13]\n",
      "[12  6 24]\n",
      "[16  4 64]\n",
      "[ 4  6 14]\n",
      "92\n"
     ]
    }
   ],
   "source": [
    "print(np.add(y, 5))\n",
    "print(np.multiply(y, 3))\n",
    "print(np.power(y, 2))\n",
    "print(np.cumsum(y))\n",
    "print(np.dot(y, z))"
   ]
  },
  {
   "cell_type": "markdown",
   "metadata": {},
   "source": [
    "5. Grafique la función seno"
   ]
  },
  {
   "cell_type": "code",
   "execution_count": 33,
   "metadata": {},
   "outputs": [],
   "source": [
    "%matplotlib inline\n",
    "import matplotlib.pyplot as plt"
   ]
  },
  {
   "cell_type": "code",
   "execution_count": 18,
   "metadata": {},
   "outputs": [],
   "source": [
    "x = np.linspace(0, 10, 100)\n",
    "y = np.sin(x)"
   ]
  },
  {
   "cell_type": "code",
   "execution_count": 19,
   "metadata": {},
   "outputs": [
    {
     "name": "stdout",
     "output_type": "stream",
     "text": [
      "[ 0.          0.1010101   0.2020202   0.3030303   0.4040404   0.50505051\n",
      "  0.60606061  0.70707071  0.80808081  0.90909091  1.01010101  1.11111111\n",
      "  1.21212121  1.31313131  1.41414141  1.51515152  1.61616162  1.71717172\n",
      "  1.81818182  1.91919192  2.02020202  2.12121212  2.22222222  2.32323232\n",
      "  2.42424242  2.52525253  2.62626263  2.72727273  2.82828283  2.92929293\n",
      "  3.03030303  3.13131313  3.23232323  3.33333333  3.43434343  3.53535354\n",
      "  3.63636364  3.73737374  3.83838384  3.93939394  4.04040404  4.14141414\n",
      "  4.24242424  4.34343434  4.44444444  4.54545455  4.64646465  4.74747475\n",
      "  4.84848485  4.94949495  5.05050505  5.15151515  5.25252525  5.35353535\n",
      "  5.45454545  5.55555556  5.65656566  5.75757576  5.85858586  5.95959596\n",
      "  6.06060606  6.16161616  6.26262626  6.36363636  6.46464646  6.56565657\n",
      "  6.66666667  6.76767677  6.86868687  6.96969697  7.07070707  7.17171717\n",
      "  7.27272727  7.37373737  7.47474747  7.57575758  7.67676768  7.77777778\n",
      "  7.87878788  7.97979798  8.08080808  8.18181818  8.28282828  8.38383838\n",
      "  8.48484848  8.58585859  8.68686869  8.78787879  8.88888889  8.98989899\n",
      "  9.09090909  9.19191919  9.29292929  9.39393939  9.49494949  9.5959596\n",
      "  9.6969697   9.7979798   9.8989899  10.        ]\n",
      "[ 0.          0.10083842  0.20064886  0.2984138   0.39313661  0.48385164\n",
      "  0.56963411  0.64960951  0.72296256  0.78894546  0.84688556  0.8961922\n",
      "  0.93636273  0.96698762  0.98775469  0.99845223  0.99897117  0.98930624\n",
      "  0.96955595  0.93992165  0.90070545  0.85230712  0.79522006  0.73002623\n",
      "  0.65739025  0.57805259  0.49282204  0.40256749  0.30820902  0.21070855\n",
      "  0.11106004  0.01027934 -0.09060615 -0.19056796 -0.28858706 -0.38366419\n",
      " -0.47483011 -0.56115544 -0.64176014 -0.7158225  -0.7825875  -0.84137452\n",
      " -0.89158426 -0.93270486 -0.96431712 -0.98609877 -0.99782778 -0.99938456\n",
      " -0.99075324 -0.97202182 -0.94338126 -0.90512352 -0.85763861 -0.80141062\n",
      " -0.73701276 -0.66510151 -0.58640998 -0.50174037 -0.41195583 -0.31797166\n",
      " -0.22074597 -0.12126992 -0.0205576   0.0803643   0.18046693  0.27872982\n",
      "  0.37415123  0.46575841  0.55261747  0.63384295  0.7086068   0.77614685\n",
      "  0.83577457  0.8868821   0.92894843  0.96154471  0.98433866  0.99709789\n",
      "  0.99969234  0.99209556  0.97438499  0.94674118  0.90944594  0.86287948\n",
      "  0.8075165   0.74392141  0.6727425   0.59470541  0.51060568  0.42130064\n",
      "  0.32770071  0.23076008  0.13146699  0.03083368 -0.07011396 -0.17034683\n",
      " -0.26884313 -0.36459873 -0.45663749 -0.54402111]\n"
     ]
    }
   ],
   "source": [
    "print(x)\n",
    "print(y)"
   ]
  },
  {
   "cell_type": "code",
   "execution_count": 34,
   "metadata": {},
   "outputs": [
    {
     "data": {
      "text/plain": [
       "[<matplotlib.lines.Line2D at 0x1cf08f01cf8>]"
      ]
     },
     "execution_count": 34,
     "metadata": {},
     "output_type": "execute_result"
    },
    {
     "data": {
      "image/png": "[encoded data removed]",
      "text/plain": [
       "<Figure size 432x288 with 1 Axes>"
      ]
     },
     "metadata": {
      "needs_background": "light"
     },
     "output_type": "display_data"
    }
   ],
   "source": [
    "plt.plot(x, y)"
   ]
  },
  {
   "cell_type": "markdown",
   "metadata": {},
   "source": [
    "## Condicionales\n",
    "1. Construya un condicional **if** que retorne un mensaje si un entero aleatorio entre 0 y 10 es mayor a 5\n",
    "2. Construya un condicional **else**. Retorne un mensaje si un entero aleatorio entre 0 y 10 es mayor a 5, en caso de no serlo también despliegue un mensaje especificándolo\n",
    "3. Construya un condicional **elif**. Retorne un mensaje si un entero aleatorio entre 0 y 10 es mayor a 5 pero menor a 8. Retorne otro mensaje si es mayor o igual 8, y otro más si es menor o igual a 5."
   ]
  },
  {
   "cell_type": "code",
   "execution_count": 35,
   "metadata": {},
   "outputs": [
    {
     "name": "stdout",
     "output_type": "stream",
     "text": [
      "Es mayor a 5\n",
      "8\n"
     ]
    }
   ],
   "source": [
    "x=np.random.randint(0,11)\n",
    "if x>5:\n",
    "    print('Es mayor a 5')\n",
    "print(x)"
   ]
  },
  {
   "cell_type": "code",
   "execution_count": 36,
   "metadata": {},
   "outputs": [
    {
     "name": "stdout",
     "output_type": "stream",
     "text": [
      "Es menor o igual 5\n",
      "1\n"
     ]
    }
   ],
   "source": [
    "x=np.random.randint(0,11)\n",
    "if x>5:\n",
    "    print('Es mayor a 5')\n",
    "else:\n",
    "    print('Es menor o igual 5')\n",
    "print(x)"
   ]
  },
  {
   "cell_type": "code",
   "execution_count": 37,
   "metadata": {},
   "outputs": [
    {
     "name": "stdout",
     "output_type": "stream",
     "text": [
      "Es menor o igual a 5\n",
      "3\n"
     ]
    }
   ],
   "source": [
    "x=np.random.randint(0,11)\n",
    "if x>5 and x<8:\n",
    "    print('Es mayor a 5 y menor a 8')\n",
    "elif x>=8:\n",
    "    print('Es mayor o igual a 8')\n",
    "else:\n",
    "    print('Es menor o igual a 5')\n",
    "print(x)"
   ]
  },
  {
   "cell_type": "markdown",
   "metadata": {},
   "source": [
    "## Loops\n",
    "#### FOR\n",
    "1. Escriba un loop que imprima los elementos, uno a uno de la lista_1."
   ]
  },
  {
   "cell_type": "code",
   "execution_count": 38,
   "metadata": {},
   "outputs": [
    {
     "name": "stdout",
     "output_type": "stream",
     "text": [
      "13\n",
      "3\n",
      "7\n",
      "45\n"
     ]
    }
   ],
   "source": [
    "for i in range(len(lista_1)):\n",
    "    print(lista_1[i])"
   ]
  },
  {
   "cell_type": "code",
   "execution_count": 39,
   "metadata": {},
   "outputs": [
    {
     "name": "stdout",
     "output_type": "stream",
     "text": [
      "13\n",
      "3\n",
      "7\n",
      "45\n"
     ]
    }
   ],
   "source": [
    "for i in lista_1:\n",
    "    print(i)"
   ]
  },
  {
   "cell_type": "markdown",
   "metadata": {},
   "source": [
    "2. Construya un loop que imprima los números pares hasta el 20. (use _range()_)"
   ]
  },
  {
   "cell_type": "code",
   "execution_count": 40,
   "metadata": {},
   "outputs": [
    {
     "name": "stdout",
     "output_type": "stream",
     "text": [
      "2\n",
      "4\n",
      "6\n",
      "8\n",
      "10\n",
      "12\n",
      "14\n",
      "16\n",
      "18\n",
      "20\n"
     ]
    }
   ],
   "source": [
    "for number in range(2, 22, 2): # Estudie que hace range(2,20,2)\n",
    "    print(number)"
   ]
  },
  {
   "cell_type": "markdown",
   "metadata": {},
   "source": [
    "1. Construya una lista llamada \"conteo\" que tenga los primeros mil numeros naturales **en una sola línea de código**. \n",
    "**Nota: recuerde que python trabaja con intervalos semiabiertos: \\[ , )**\n",
    "2. Imprima el tamaño de la lista \"conteo\""
   ]
  },
  {
   "cell_type": "code",
   "execution_count": 41,
   "metadata": {},
   "outputs": [
    {
     "name": "stdout",
     "output_type": "stream",
     "text": [
      "1000\n"
     ]
    }
   ],
   "source": [
    "conteo=[i for i in range(1000)]\n",
    "print(len(conteo)) # len es la función que da el tamano de la lista"
   ]
  },
  {
   "cell_type": "markdown",
   "metadata": {},
   "source": [
    "#### WHILE\n",
    "1. Construya un loop que genere e imprima en cada ciclo un entero aleatorio entre 0 y 100, cuando el número sea superior a 75 se debe detener el loop. "
   ]
  },
  {
   "cell_type": "code",
   "execution_count": 42,
   "metadata": {},
   "outputs": [
    {
     "name": "stdout",
     "output_type": "stream",
     "text": [
      "82\n"
     ]
    }
   ],
   "source": [
    "num=0 # Creo un número arbitrario llamado num\n",
    "while num<=75:\n",
    "    num=np.random.randint(0,100) # Reemplazo el valor de num por un entero aleatorio\n",
    "    print(num) # Imprimo num"
   ]
  },
  {
   "cell_type": "markdown",
   "metadata": {},
   "source": [
    "2. Construya un loop que genere e imprima un entero aleatorio entre 0 y 100, cuando el número sea superior a 75 se debe detener el loop. Si el número es múltiplo de 8 debe detenerse el loop (use _break_)"
   ]
  },
  {
   "cell_type": "code",
   "execution_count": 43,
   "metadata": {},
   "outputs": [
    {
     "name": "stdout",
     "output_type": "stream",
     "text": [
      "7\n"
     ]
    }
   ],
   "source": [
    "num=0 # Creo un número arbitrario llamado num\n",
    "while num<=75:\n",
    "    num=np.random.randint(0,100) # Reemplazo el valor de num por un entero aleatorio\n",
    "    if num%8==0:\n",
    "        break\n",
    "    print(num) # Imprimo num"
   ]
  },
  {
   "cell_type": "markdown",
   "metadata": {},
   "source": [
    "3. Construya un loop que le reste a 10 un valor de 1 en cada ciclo y lo imprima. Este número nunca debe ser negativo. Cuando el número sea par, debe saltarse la impresión en el ciclo (use _continue_)"
   ]
  },
  {
   "cell_type": "code",
   "execution_count": 44,
   "metadata": {},
   "outputs": [
    {
     "name": "stdout",
     "output_type": "stream",
     "text": [
      "9\n",
      "7\n",
      "5\n",
      "3\n",
      "1\n"
     ]
    }
   ],
   "source": [
    "n = 10\n",
    "while n > 0:\n",
    "    n -= 1\n",
    "    if n %2==0:\n",
    "        continue\n",
    "    print(n)"
   ]
  },
  {
   "cell_type": "markdown",
   "metadata": {},
   "source": [
    "### Funciones\n",
    "1. Defina una función que sume dos número, llamela mi_primera_funcion"
   ]
  },
  {
   "cell_type": "code",
   "execution_count": 45,
   "metadata": {},
   "outputs": [],
   "source": [
    "def mi_primera_funcion(arg1,arg2):\n",
    "    resultado=arg1+arg2\n",
    "    return(resultado)"
   ]
  },
  {
   "cell_type": "code",
   "execution_count": 46,
   "metadata": {},
   "outputs": [
    {
     "data": {
      "text/plain": [
       "5"
      ]
     },
     "execution_count": 46,
     "metadata": {},
     "output_type": "execute_result"
    }
   ],
   "source": [
    "mi_primera_funcion(2,3)"
   ]
  },
  {
   "cell_type": "markdown",
   "metadata": {},
   "source": [
    "2. Construya una función que reciba un número y retorne la palabra \"par\" o \"impar\" dependiendo del insumo. Llame a la función _parImpar_. Pruébela sobre los números 2,3,7,12. Pista: busque que hace __%__. "
   ]
  },
  {
   "cell_type": "code",
   "execution_count": 47,
   "metadata": {},
   "outputs": [],
   "source": [
    "def parImpar(number):\n",
    "    if (number % 2 == 0): # Si el residuo de un número dividido 2 es cero, significa ue es múltiplo de 2\n",
    "        return(\"par\")\n",
    "    else: \n",
    "        return(\"impar\")"
   ]
  },
  {
   "cell_type": "code",
   "execution_count": 48,
   "metadata": {},
   "outputs": [
    {
     "name": "stdout",
     "output_type": "stream",
     "text": [
      "par\n",
      "impar\n",
      "impar\n",
      "par\n"
     ]
    }
   ],
   "source": [
    "print(parImpar(2))\n",
    "print(parImpar(3))\n",
    "print(parImpar(7))\n",
    "print(parImpar(12))"
   ]
  },
  {
   "cell_type": "markdown",
   "metadata": {},
   "source": [
    "3. Construya una función que reciba un número y retorne la cantidad de divisores del mismo. En caso de ser un número primo, también debe retornar una cadena de caracteres que diga que es un número primo. Llame a la función divisores"
   ]
  },
  {
   "cell_type": "code",
   "execution_count": 49,
   "metadata": {},
   "outputs": [],
   "source": [
    "def divisores(numero):\n",
    "    contador=0 # Creamos un contador que aumenta cada vez que el residuo sea 0. \n",
    "    for i in range(numero):\n",
    "        if numero % (i+1)==0:\n",
    "            contador=contador+1\n",
    "    if contador==2:\n",
    "        print('El ' ,numero, ' es un número de primo')\n",
    "    return(contador)"
   ]
  },
  {
   "cell_type": "code",
   "execution_count": 50,
   "metadata": {},
   "outputs": [
    {
     "name": "stdout",
     "output_type": "stream",
     "text": [
      "El  7  es un número de primo\n"
     ]
    },
    {
     "data": {
      "text/plain": [
       "2"
      ]
     },
     "execution_count": 50,
     "metadata": {},
     "output_type": "execute_result"
    }
   ],
   "source": [
    "divisores(7)"
   ]
  },
  {
   "cell_type": "code",
   "execution_count": 51,
   "metadata": {},
   "outputs": [
    {
     "data": {
      "text/plain": [
       "4"
      ]
     },
     "execution_count": 51,
     "metadata": {},
     "output_type": "execute_result"
    }
   ],
   "source": [
    "divisores(8)"
   ]
  },
  {
   "cell_type": "markdown",
   "metadata": {},
   "source": [
    "4. Construya una función que reciba un número y retorne la **lista** de divisores del mismo. En caso de ser un número primo, también debe retornar una cadena de caracteres que diga que es un número primo. Llame a la función ListDivisores"
   ]
  },
  {
   "cell_type": "code",
   "execution_count": 52,
   "metadata": {},
   "outputs": [],
   "source": [
    "def ListDivisores(numero):\n",
    "    lista=[] # Creo un lista vacía a la que le voy a añadir los divisores\n",
    "    for i in range(numero): # Haga un loop desde 0 hasta el número deseado\n",
    "        if numero % (i+1)==0: # Si el residuo es cero entonces es múltiplo\n",
    "            lista.append(i+1) # Hago i+1 y no i porque arranca desde cero y no desde 1. \n",
    "    if len(lista)==2: # Si solo hay dos divisores, significa que es el 1 y el número en si, luego es un primo. \n",
    "        print('El ' ,numero, ' es un número de primo')\n",
    "    return(lista)"
   ]
  },
  {
   "cell_type": "code",
   "execution_count": 53,
   "metadata": {},
   "outputs": [
    {
     "name": "stdout",
     "output_type": "stream",
     "text": [
      "El  7  es un número de primo\n"
     ]
    },
    {
     "data": {
      "text/plain": [
       "[1, 7]"
      ]
     },
     "execution_count": 53,
     "metadata": {},
     "output_type": "execute_result"
    }
   ],
   "source": [
    "ListDivisores(7)"
   ]
  },
  {
   "cell_type": "code",
   "execution_count": 54,
   "metadata": {},
   "outputs": [
    {
     "data": {
      "text/plain": [
       "[1, 2, 4, 8]"
      ]
     },
     "execution_count": 54,
     "metadata": {},
     "output_type": "execute_result"
    }
   ],
   "source": [
    "ListDivisores(8)"
   ]
  },
  {
   "cell_type": "markdown",
   "metadata": {},
   "source": [
    "4. Construya un función que reciba una cadena de caracteres y esta retorne cuantas letras tiene. Use loops."
   ]
  },
  {
   "cell_type": "code",
   "execution_count": 55,
   "metadata": {},
   "outputs": [],
   "source": [
    "def count_letters(string):\n",
    "    count = 0\n",
    "    for letter in string:\n",
    "        count += 1\n",
    "    return count"
   ]
  },
  {
   "cell_type": "code",
   "execution_count": 56,
   "metadata": {},
   "outputs": [
    {
     "data": {
      "text/plain": [
       "8"
      ]
     },
     "execution_count": 56,
     "metadata": {},
     "output_type": "execute_result"
    }
   ],
   "source": [
    "count_letters('economia')"
   ]
  },
  {
   "cell_type": "markdown",
   "metadata": {},
   "source": [
    "5. Construya la función saludo que reciba su nombre y un parámetro booleano que indica si debe ir en mayúsculas o no."
   ]
  },
  {
   "cell_type": "code",
   "execution_count": 57,
   "metadata": {},
   "outputs": [],
   "source": [
    "def saludo(nombre, mayus=False):\n",
    "    if mayus:\n",
    "        return 'HOLA, {}'.format(nombre.upper())\n",
    "    else:\n",
    "        return 'Hola, {}'.format(nombre)"
   ]
  },
  {
   "cell_type": "code",
   "execution_count": 58,
   "metadata": {},
   "outputs": [
    {
     "name": "stdout",
     "output_type": "stream",
     "text": [
      "Hola, Mateo\n",
      "HOLA, MATEO\n"
     ]
    }
   ],
   "source": [
    "print(saludo('Mateo'))\n",
    "print(saludo('Mateo', mayus = True))"
   ]
  },
  {
   "cell_type": "markdown",
   "metadata": {},
   "source": [
    "## Ejercicios\n",
    "1. Aprenda a usar la función _map()_, busque su documentación. Aplicando _map()_ a la lista [8,23,56,86] muestre la lista de divisores de cada número.\n",
    "2. Construya una función que represente el lanzamiento de un dado de 6 caras.\n",
    "3. Escriba una función que construya el [coeficiente de variación](https://es.wikipedia.org/wiki/Coeficiente_de_variaci%C3%B3n) de un vector dado."
   ]
  },
  {
   "cell_type": "code",
   "execution_count": null,
   "metadata": {},
   "outputs": [],
   "source": []
  },
  {
   "cell_type": "code",
   "execution_count": null,
   "metadata": {},
   "outputs": [],
   "source": []
  },
  {
   "cell_type": "code",
   "execution_count": null,
   "metadata": {},
   "outputs": [],
   "source": []
  },
  {
   "cell_type": "markdown",
   "metadata": {},
   "source": [
    "### Magic Functions\n",
    "Estas funciones solo funcionan dentro de jupyter, no son de python, son de la interfaz"
   ]
  },
  {
   "cell_type": "markdown",
   "metadata": {},
   "source": [
    "- %whos: Permite ver que hay en el ambiente de trabajo\n",
    "- %time: Permite cuantificar el tiempo que dura en correr el código de una celda\n",
    "- %cd: Cambia el directorio\n",
    "- %dirs: Retorna el directorio actual\n",
    "- %lsmagic: Ver la lista de funciones mágicas\n",
    "- %timeit: Corre varias veces la celda para determinar un tiempo promedio e intervalo de confianza\n",
    "- ?: Es otro help (en mi opinión más interesante)"
   ]
  },
  {
   "cell_type": "code",
   "execution_count": 59,
   "metadata": {},
   "outputs": [
    {
     "name": "stdout",
     "output_type": "stream",
     "text": [
      "Variable             Type        Data/Info\n",
      "------------------------------------------\n",
      "ListDivisores        function    <function ListDivisores at 0x000001CF08F751E0>\n",
      "a                    int         7\n",
      "b                    str         Python\n",
      "conteo               list        n=1000\n",
      "count_letters        function    <function count_letters at 0x000001CF08F75620>\n",
      "dict_1               dict        n=5\n",
      "divisores            function    <function divisores at 0x000001CF08F75598>\n",
      "i                    int         45\n",
      "lista_1              list        n=4\n",
      "lista_2              list        n=4\n",
      "mi_primera_funcion   function    <function mi_primera_func<...>on at 0x000001CF08F750D0>\n",
      "muestra              int         16\n",
      "muestras             ndarray     15: 15 elems, type `int32`, 60 bytes\n",
      "n                    int         0\n",
      "np                   module      <module 'numpy' from 'C:\\<...>ges\\\\numpy\\\\__init__.py'>\n",
      "num                  int         8\n",
      "number               int         20\n",
      "parImpar             function    <function parImpar at 0x000001CF073608C8>\n",
      "plt                  module      <module 'matplotlib.pyplo<...>\\\\matplotlib\\\\pyplot.py'>\n",
      "saludo               function    <function saludo at 0x000001CF08F75400>\n",
      "x                    int         3\n",
      "y                    ndarray     3: 3 elems, type `int32`, 12 bytes\n",
      "z                    ndarray     3: 3 elems, type `int32`, 12 bytes\n"
     ]
    }
   ],
   "source": [
    "%whos"
   ]
  },
  {
   "cell_type": "code",
   "execution_count": 60,
   "metadata": {},
   "outputs": [
    {
     "name": "stdout",
     "output_type": "stream",
     "text": [
      "Wall time: 0 ns\n"
     ]
    },
    {
     "data": {
      "text/plain": [
       "[1, 2, 5, 10, 25, 50]"
      ]
     },
     "execution_count": 60,
     "metadata": {},
     "output_type": "execute_result"
    }
   ],
   "source": [
    "%%time\n",
    "# Permite cuantificar el tiempo que dura en correr el código de una celda\n",
    "ListDivisores(50)"
   ]
  },
  {
   "cell_type": "code",
   "execution_count": 62,
   "metadata": {},
   "outputs": [
    {
     "name": "stdout",
     "output_type": "stream",
     "text": [
      "4.82 µs ± 50.2 ns per loop (mean ± std. dev. of 7 runs, 100000 loops each)\n"
     ]
    }
   ],
   "source": [
    "%%timeit\n",
    "# Permite cuantificar el tiempo que dura en correr el código de una celda\n",
    "ListDivisores(50)"
   ]
  },
  {
   "cell_type": "code",
   "execution_count": 64,
   "metadata": {},
   "outputs": [
    {
     "data": {
      "text/plain": [
       "\u001b[1;31mSignature:\u001b[0m \u001b[0msum\u001b[0m\u001b[1;33m(\u001b[0m\u001b[0miterable\u001b[0m\u001b[1;33m,\u001b[0m \u001b[0mstart\u001b[0m\u001b[1;33m=\u001b[0m\u001b[1;36m0\u001b[0m\u001b[1;33m,\u001b[0m \u001b[1;33m/\u001b[0m\u001b[1;33m)\u001b[0m\u001b[1;33m\u001b[0m\u001b[1;33m\u001b[0m\u001b[0m\n",
       "\u001b[1;31mDocstring:\u001b[0m\n",
       "Return the sum of a 'start' value (default: 0) plus an iterable of numbers\n",
       "\n",
       "When the iterable is empty, return the start value.\n",
       "This function is intended specifically for use with numeric values and may\n",
       "reject non-numeric types.\n",
       "\u001b[1;31mType:\u001b[0m      builtin_function_or_method\n"
      ]
     },
     "metadata": {},
     "output_type": "display_data"
    }
   ],
   "source": [
    "sum?"
   ]
  },
  {
   "cell_type": "code",
   "execution_count": null,
   "metadata": {},
   "outputs": [],
   "source": []
  }
 ],
 "metadata": {
  "kernelspec": {
   "display_name": "Python 3",
   "language": "python",
   "name": "python3"
  },
  "language_info": {
   "codemirror_mode": {
    "name": "ipython",
    "version": 3
   },
   "file_extension": ".py",
   "mimetype": "text/x-python",
   "name": "python",
   "nbconvert_exporter": "python",
   "pygments_lexer": "ipython3",
   "version": "3.7.3"
  }
 },
 "nbformat": 4,
 "nbformat_minor": 2
}
